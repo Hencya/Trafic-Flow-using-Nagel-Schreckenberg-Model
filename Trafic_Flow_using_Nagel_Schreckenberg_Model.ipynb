{
  "nbformat": 4,
  "nbformat_minor": 0,
  "metadata": {
    "colab": {
      "name": "[Kelompok 5] Trafic Flow using Nagel-Schreckenberg Model",
      "provenance": [],
      "collapsed_sections": []
    },
    "kernelspec": {
      "name": "python3",
      "display_name": "Python 3"
    },
    "language_info": {
      "name": "python"
    }
  },
  "cells": [
    {
      "cell_type": "markdown",
      "source": [
        "# **Tugas Pemodelan dan Simulasi Simulasi untuk Trafic Flow**\n",
        "**Kelompok : 5** <br>\n",
        "**Anggota    :** \n",
        "1.   Muhammad Avtara Khrisna (1301194094)\n",
        "2.   Faiz Rofi Hencya (1301190230)\n",
        "3.   Syifa Fauziah (1301194137)\n",
        "\n"
      ],
      "metadata": {
        "id": "fA_Q5R6hBi0i"
      }
    },
    {
      "cell_type": "code",
      "source": [
        "# Mengimport semua kebutuhan library\n",
        "import matplotlib.pyplot as plt\n",
        "import shutil\n",
        "import os\n",
        "import imageio as img"
      ],
      "metadata": {
        "id": "lLop7LFBo89L"
      },
      "execution_count": null,
      "outputs": []
    },
    {
      "cell_type": "code",
      "source": [
        "import matplotlib.pyplot as plt\n",
        "import shutil\n",
        "import os\n",
        "import imageio as img\n",
        "\n",
        "# Kelas untuk membuat visualisasi\n",
        "class visualization:\n",
        "    # Inisialisasi variable kelas\n",
        "    def __init__(self):\n",
        "        self.fig, self.ax = plt.subplots(figsize=(8, 8))\n",
        "        self.number_of_images = 0\n",
        "        self.directory = \"hasil\"\n",
        "        self.file_names = []\n",
        "\n",
        "    def show(self):\n",
        "        plt.figure(self.fig.number)\n",
        "        plt.show()\n",
        "\n",
        "    # Method untuk membuat direktori untuk menyimpan hasil\n",
        "    def create_directory(self):\n",
        "        try:\n",
        "            shutil.rmtree(self.directory)\n",
        "        except FileNotFoundError:\n",
        "            pass\n",
        "        os.mkdir(self.directory)\n",
        "\n",
        "    # Method untuk menyimpan gambar setiap iterasi\n",
        "    def save(self):\n",
        "        path = os.path.join(self.directory, \n",
        "                            'step_{0:0>4}.png'.format(self.number_of_images))\n",
        "        self.fig.savefig(path)\n",
        "        self.number_of_images += 1\n",
        "        self.file_names.append(path)\n",
        "\n",
        "    # Method untuk membuat gif dari iterasi yang telah dibuat\n",
        "    def gif(self, fps=2):\n",
        "        images = []\n",
        "        path = os.path.join(self.directory, 'simulation.gif')\n",
        "        for file_name in self.file_names:\n",
        "            images.append(img.imread(file_name))\n",
        "        img.mimsave(path, images, fps=fps)"
      ],
      "metadata": {
        "id": "3H1OMBIsllJ7"
      },
      "execution_count": null,
      "outputs": []
    },
    {
      "cell_type": "code",
      "source": [
        "from typing import Optional, List\n",
        "import numpy as np\n",
        "import matplotlib.pyplot as plt\n",
        "import matplotlib.colors as clrs\n",
        "\n",
        "\n",
        "# Kelas Car untuk membuat objek mobil beserta kecepatan dan warna\n",
        "class Car:\n",
        "    def __init__(self, number, hue):\n",
        "        self.velocity = 0\n",
        "        self.number = number\n",
        "        # color: warna yang akan dihasilkan untuk setiap mobil ini akan berbeda\n",
        "        self.hue = hue  \n",
        "\n",
        "    def __repr__(self):\n",
        "        return 'Car ' + str(self.number)\n",
        "\n",
        "# implementasi Model menggunakan Nagel-Schreckenberg Model\n",
        "class Model:\n",
        "    # Mendeklarasikan tipe data dari jalanan adalah List berisi objek mobil\n",
        "    road: List[Optional[Car]]  \n",
        "    \n",
        "    def __init__(self, L, car_density, max_velocity, slowing_probability\n",
        "                 , save_graphics=False):\n",
        "        self.L = L\n",
        "        self.car_density = car_density\n",
        "        self.max_velocity = max_velocity\n",
        "        self.slowing_probability = slowing_probability\n",
        "        # Memproduksi mobil\n",
        "        self.number_of_cars = int(\n",
        "            round(L * car_density))\n",
        "        # Membuat list jalanan apabila tidak ada mobil akan dibuat None\n",
        "        self.road = [None] * L  \n",
        "        self.average_velocities = []\n",
        "        initial_car_indices = sorted(\n",
        "            # Taruh random letak mobil yang ada dijalanan\n",
        "            np.random.choice(L, self.number_of_cars, replace=False))  \n",
        "        for i in range(len(initial_car_indices)):\n",
        "            this_car = Car(i + 1, i / self.number_of_cars)\n",
        "            self.road[initial_car_indices[i]] = this_car\n",
        "        # Tanda untuk menyimpan visual pada setiap iterasinya\n",
        "        self.save_graphics = save_graphics\n",
        "        if save_graphics:\n",
        "            self.drawing_machine = visualization()\n",
        "            self.drawing_machine.create_directory()\n",
        "\n",
        "    # Method untuk mendapatkan velocity\n",
        "    def get_velocities(self):\n",
        "        velocities = [None] * len(self.road)\n",
        "        for i in range(len(self.road)):\n",
        "            if self.road[i]:\n",
        "                velocities[i] = self.road[i].velocity\n",
        "        return velocities\n",
        "\n",
        "    # Method untuk menjalankan simulasi traffic flow\n",
        "    def simulation(self, number_of_iterations):  \n",
        "        self.average_velocities = [self.average_velocity()]\n",
        "        for i in range(number_of_iterations):\n",
        "            self.acceleration()\n",
        "            self.slowing()\n",
        "            self.randomization()\n",
        "            self.motion()\n",
        "            self.average_velocities.append(self.average_velocity())\n",
        "            if self.save_graphics:\n",
        "                self.draw_road(r_big=4.5, r_small=4, t=i)\n",
        "                plt.cla()\n",
        "        if self.save_graphics:\n",
        "            self.drawing_machine.gif(fps=10)\n",
        "\n",
        "    # Method untuk mendefinisikan velocity di awal iterasi\n",
        "    def acceleration(self):  \n",
        "        for cell in self.road:\n",
        "            if cell:\n",
        "                cell.velocity = min(cell.velocity + 1, self.max_velocity)\n",
        "\n",
        "    # Method untuk melambatkan pergerakan mobil berdasarkan \n",
        "    def slowing(self):\n",
        "        for i in range(len(self.road)):\n",
        "            if self.road[i]:\n",
        "                distance = 0\n",
        "                while not self.road[(i + distance + 1) % len(self.road)]:\n",
        "                    distance += 1\n",
        "                self.road[i].velocity = min(self.road[i].velocity, distance)\n",
        "\n",
        "    # Method untuk random kecepatan dari mobil\n",
        "    def randomization(self): \n",
        "        for i in range(len(self.road)):\n",
        "            if self.road[i]:\n",
        "                if np.random.random() < self.slowing_probability:\n",
        "                    self.road[i].velocity = max(self.road[i].velocity - 1, 0)\n",
        "\n",
        "    # Method untuk memperbaharui pergerakan dari mobil\n",
        "    def motion(self):\n",
        "        new_road = [None] * len(self.road)\n",
        "        for i in range(len(self.road)):\n",
        "            if self.road[i]:\n",
        "                new_road[(i + self.road[i].velocity) % len(self.road)] = self.road[i]\n",
        "        self.road = new_road\n",
        "\n",
        "    # Menghitung rata-rata velocity dari setiap iterasi\n",
        "    def average_velocity(self):  \n",
        "        return sum(filter(None, self.get_velocities())) / self.number_of_cars\n",
        "\n",
        "    # Method untuk visualisasi traffic flow\n",
        "    def draw_road(self, r_big, r_small, t):  \n",
        "        r_diff = r_small * np.sin(np.pi / self.L) / (1 - np.sin(np.pi / self.L))\n",
        "        big_circle = plt.Circle((0, 0), r_big, color='darkgray')\n",
        "        small_circle = plt.Circle((0, 0), r_small, color='w')\n",
        "        self.drawing_machine.ax.add_artist(big_circle)\n",
        "        self.drawing_machine.ax.add_artist(small_circle)\n",
        "        plt.xlim(-(r_big + 2), (r_big + 2))\n",
        "        plt.ylim(-(r_big + 2), (r_big + 2))\n",
        "        r_middle = (r_big + r_small) / 2\n",
        "        theta = np.linspace(0, 2 * np.pi, self.L + 1)\n",
        "        for i in range(self.L):\n",
        "            if self.road[i]:\n",
        "                x = r_middle * np.cos(theta[i])\n",
        "                y = r_middle * np.sin(theta[i])\n",
        "                color = clrs.hsv_to_rgb((self.road[i].hue, 1, 1))\n",
        "                car_circle = plt.Circle((x, y), 0.9 * r_diff, color=color)\n",
        "                self.drawing_machine.ax.add_artist(car_circle)\n",
        "        self.drawing_machine.ax.get_xaxis().set_ticks([])\n",
        "        self.drawing_machine.ax.get_yaxis().set_ticks([])\n",
        "        self.drawing_machine.ax.set_title(\n",
        "            'Panjang lintasan={0}, Iterasi ke-{1}'.format(self.L, t))\n",
        "        self.drawing_machine.ax.set_xlabel(\n",
        "            'Populasi Mobil={0}, Max Velocity={1}, Slowing prob={2}'.format(\n",
        "            int(round(self.car_density * self.L)),\n",
        "            self.max_velocity,\n",
        "            self.slowing_probability))\n",
        "        self.drawing_machine.save()"
      ],
      "metadata": {
        "id": "1i_iyHfzlfq-"
      },
      "execution_count": null,
      "outputs": []
    },
    {
      "cell_type": "code",
      "source": [
        "if __name__ == '__main__':\n",
        "\n",
        "    L = 100\n",
        "    n_iterations = 100\n",
        "    v_max = 5\n",
        "    slowing_p_list = [0.3]\n",
        "    rho_list = np.linspace(0.2, 1, 5)\n",
        "    for p in slowing_p_list:\n",
        "        average_velocities_list = []\n",
        "        for rho in rho_list:\n",
        "            NSM = Model(L, rho, v_max, p, save_graphics=False)\n",
        "            NSM.simulation(n_iterations)\n",
        "            average_velocities_list.append(sum(NSM.average_velocities) / len(NSM.average_velocities))\n",
        "        plt.plot(rho_list, average_velocities_list, label='p={0}'.format(p))\n",
        "    plt.title('Average velocity, L={0}, max velocity={1}, #iter={2}'.format(L, v_max, n_iterations))\n",
        "    plt.xlabel('car density')\n",
        "    plt.ylabel('average velocity')\n",
        "    plt.legend()\n",
        "    plt.show()\n",
        "\n",
        "   "
      ],
      "metadata": {
        "colab": {
          "base_uri": "https://localhost:8080/",
          "height": 295
        },
        "id": "ANMpM6kWujog",
        "outputId": "9b366f01-0a40-46e1-ef00-145ee0cce71a"
      },
      "execution_count": null,
      "outputs": [
        {
          "output_type": "display_data",
          "data": {
            "text/plain": [
              "<Figure size 432x288 with 1 Axes>"
            ],
            "image/png": "[encoded data removed]"
          },
          "metadata": {
            "needs_background": "light"
          }
        }
      ]
    },
    {
      "cell_type": "code",
      "source": [
        "if __name__ == '__main__':\n",
        "    M = 100\n",
        "    n_iterations = 100\n",
        "    v_max = 5\n",
        "    slowing_p = 0.3\n",
        "    density = 0.2\n",
        "    NSM = Model(M, density, v_max, slowing_p, save_graphics=True)\n",
        "    NSM.simulation(n_iterations)\n",
        "    \n",
        "    print(\"Kecepatan rata-rata: \")\n",
        "    print((sum(NSM.average_velocities) / len(NSM.average_velocities)))\n",
        "\n",
        "    print(\"Waktu rata-rata mobil kembali ke posisi awal: \")\n",
        "    print(M/(sum(NSM.average_velocities) / len(NSM.average_velocities)))"
      ],
      "metadata": {
        "colab": {
          "base_uri": "https://localhost:8080/",
          "height": 559
        },
        "id": "v5Ata4Lmumnw",
        "outputId": "10b31ba8-1be1-4a8a-b0dd-af2be9f2724a"
      },
      "execution_count": null,
      "outputs": [
        {
          "output_type": "stream",
          "name": "stdout",
          "text": [
            "Kecepatan rata-rata: \n",
            "2.1282178217821777\n",
            "Waktu rata-rata mobil kembali ke posisi awal: \n",
            "46.987671551523626\n"
          ]
        },
        {
          "output_type": "display_data",
          "data": {
            "text/plain": [
              "<Figure size 576x576 with 1 Axes>"
            ],
            "image/png": "[encoded data removed]"
          },
          "metadata": {
            "needs_background": "light"
          }
        }
      ]
    },
    {
      "cell_type": "code",
      "source": [
        ""
      ],
      "metadata": {
        "id": "mHH1I2weU41T"
      },
      "execution_count": null,
      "outputs": []
    }
  ]
}